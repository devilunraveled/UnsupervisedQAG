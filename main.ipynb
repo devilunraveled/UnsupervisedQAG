{
    "metadata": {
        "kernelspec": {
            "name": "python3",
            "display_name": "Python 3",
            "language": "python"
        },
        "language_info": {
            "name": "python",
            "version": "3.10.13",
            "mimetype": "text/x-python",
            "codemirror_mode": {
                "name": "ipython",
                "version": 3
            },
            "pygments_lexer": "ipython3",
            "nbconvert_exporter": "python",
            "file_extension": ".py"
        }
    },
    "nbformat_minor": 2,
    "nbformat": 4,
    "cells": [
        {
            "cell_type": "code",
            "source": [
                "%load_ext autoreload\n",
                "%autoreload 2"
            ],
            "metadata": {
                "language": "python",
                "azdata_cell_guid": "d2a6757e-cc3b-40a2-9d85-1dcc120f684b"
            },
            "outputs": [],
            "execution_count": 4
        },
        {
            "cell_type": "code",
            "source": [
                "from utils import createRawDataset"
            ],
            "metadata": {
                "azdata_cell_guid": "255600a2-1c9d-4d2b-9ae7-0b514a267ed6",
                "language": "python",
                "tags": []
            },
            "outputs": [],
            "execution_count": 3
        },
        {
            "cell_type": "code",
            "source": [
                ""
            ],
            "metadata": {
                "azdata_cell_guid": "4d5d13f2-a541-4089-986b-d0aa22be8556",
                "language": "python"
            },
            "outputs": [],
            "execution_count": null
        }
    ]
}